{
 "cells": [
  {
   "cell_type": "markdown",
   "metadata": {},
   "source": [
    "<div style=\"text-align: center;\">\n",
    "  <img src=\"https://github.com/Hack-io-Data/Imagenes/blob/main/01-LogosHackio/logo_celeste@4x.png?raw=true\" alt=\"logo hack(io)\" />\n",
    "</div>"
   ]
  },
  {
   "cell_type": "markdown",
   "metadata": {},
   "source": [
    "## Tipos de datos\n",
    "\n",
    "Es esencial comprender los distintos tipos de datos en Python, como enteros, flotantes, cadenas de texto, booleanos, listas, tuplas y diccionarios. Este conocimiento es fundamental para el diseño de algoritmos, ya que los tipos de datos determinan cómo se almacenan y procesan los datos en la memoria.\n",
    "\n",
    "En esta batería de ejercicios, exploraremos los tipos de datos en Python y cómo utilizarlos eficientemente. Desde los conceptos básicos hasta los más avanzados, esta serie de ejercicios está diseñada para mejorar las habilidades de programación en Python y profundizar la comprensión de los tipos de datos, esencial para desarrollar aplicaciones de calidad y eficientes."
   ]
  },
  {
   "cell_type": "markdown",
   "metadata": {},
   "source": [
    "### Ejercicio 1: Operaciones aritméticas con números complejos\n",
    "\n",
    "1-Declara dos variables `numero1` y `numero2` y asigna a ellas valores numéricos complejos.\n",
    "\n",
    "2-Realiza las siguientes operaciones: suma, resta, multiplicación y división.\n",
    "\n",
    "3-Imprime en pantalla el resultado de cada operación utilizando la función `print()`."
   ]
  },
  {
   "cell_type": "code",
   "execution_count": 2,
   "metadata": {},
   "outputs": [
    {
     "name": "stdout",
     "output_type": "stream",
     "text": [
      "(17+13j)\n",
      "(-7-1j)\n",
      "(18+107j)\n",
      "(0.5284974093264247+0.19170984455958545j)\n"
     ]
    }
   ],
   "source": [
    "#La j se usa para declarar un número complejo\n",
    "numero1 = 5 + 6j\n",
    "numero2 = 7j + 12\n",
    "\n",
    "print(numero1 + numero2) #suma\n",
    "print(numero1 - numero2) #resta\n",
    "print(numero1 * numero2)#multiplicación\n",
    "print(numero1/numero2)#división"
   ]
  },
  {
   "cell_type": "markdown",
   "metadata": {},
   "source": [
    "### Ejercicio 2: Formateo de cadenas de texto\n",
    "\n",
    "1-Declara una variable `nombre` y asigna a ella el valor 'Juan'.\n",
    "\n",
    "2-Declara una variable `edad` y asigna a ella el valor 25.\n",
    "\n",
    "3- Declara una variable llamada `peso` y asigna a ella el valor 75.5.\n",
    "\n",
    "4-Declara una variable llamada `altura` y asigna a ella el valor 1.75.\n",
    "\n",
    "5-Imprime en pantalla el valor de cada variable utilizando la función print().\n",
    "\n",
    "6-Utiliza el formateo de cadenas de texto para imprimir en pantalla un mensaje que diga: `Hola me llamo Juan, tengo 25 años, peso 75.5 kg y mido 1.75 m`."
   ]
  },
  {
   "cell_type": "code",
   "execution_count": 7,
   "metadata": {},
   "outputs": [
    {
     "name": "stdout",
     "output_type": "stream",
     "text": [
      "Hola me llamo Juan, tengo 25 años, peso 75.5kg y mido 1.75m\n"
     ]
    }
   ],
   "source": [
    "nombre = \"Juan\"\n",
    "edad = 25\n",
    "peso = 75.5\n",
    "altura = 1.75\n",
    "#El método de abajo es más antiguo, si tenemos python 3.6 o mayor, es mejor usar los f-strings\n",
    "# print(\"Hola me llamo \"+ nombre +\", tengo \" + str(edad) + \" años, peso \" + str(peso) + \"kg y mido \"+ str(altura) + \"m\")\n",
    "print(f\"Hola me llamo {nombre}, tengo {edad} años, peso {peso}kg y mido {altura}m\")"
   ]
  },
  {
   "cell_type": "markdown",
   "metadata": {},
   "source": [
    "### Ejercicio 3: Conversión de cadenas de texto a números\n",
    "\n",
    "\n",
    "1-Declara una variable `cadena` y asigna a ella el valor '10'.\n",
    "\n",
    "2-Utiliza la función type() para obtener el tipo de dato de `cadena` y asigna el resultado a una variable llamada `tipo`.\n",
    "\n",
    "3- Imprime en pantalla el valor de `tipo` utilizando la función print().\n",
    "\n",
    "4-Convierte el valor de `cadena` a entero y asigna el resultado a una variable llamada `numero`.\n",
    "\n",
    "5-Realiza la operación de incremento en `numero` y asigna el resultado a la misma variable.\n"
   ]
  },
  {
   "cell_type": "code",
   "execution_count": 11,
   "metadata": {},
   "outputs": [
    {
     "name": "stdout",
     "output_type": "stream",
     "text": [
      "<class 'str'>\n",
      "11\n"
     ]
    }
   ],
   "source": [
    "cadena = \"10\"\n",
    "tipo = type(cadena)\n",
    "print(tipo)\n",
    "numero = int(cadena) #int() es el conversor de string a int al revés es str() para pasarlo a string\n",
    "numero += 1\n",
    "print(numero)"
   ]
  },
  {
   "cell_type": "markdown",
   "metadata": {},
   "source": [
    "### Ejercicio 4: Uso de la función input()\n",
    "\n",
    "1-Utiliza la función input() para solicitar al usuario que ingrese un número.\n",
    "\n",
    "2-Asigna el valor ingresado por el usuario a una variable llamada `numero`.\n",
    "\n",
    "3-Realiza la operación de incremento en `numero` y asigna el resultado a la misma variable.\n",
    "\n",
    "4-Imprime en pantalla el valor de numero utilizando la función print()."
   ]
  },
  {
   "cell_type": "code",
   "execution_count": 5,
   "metadata": {},
   "outputs": [
    {
     "name": "stdout",
     "output_type": "stream",
     "text": [
      "121.1\n"
     ]
    }
   ],
   "source": [
    "try:\n",
    "    #Vamos a intentar esto con detección de errores\n",
    "    numero = input(\"Inserta un número: \")\n",
    "    numero = int(numero) #Lo convertimos a int\n",
    "    numero += 1\n",
    "    print(numero)\n",
    "except: #si no es un int, puede que sea decimal\n",
    "    try:\n",
    "        numero = float(numero) #Lo convertimos en float\n",
    "        numero += 1\n",
    "        print(numero)    \n",
    "    except: #si no lo es, entonces no nos vale, tiramos error\n",
    "        print(\"No has introducido un número\")"
   ]
  },
  {
   "cell_type": "code",
   "execution_count": 16,
   "metadata": {},
   "outputs": [
    {
     "name": "stdout",
     "output_type": "stream",
     "text": [
      "  ***     ***  \n",
      " *****   ***** \n",
      "******* *******\n",
      " ************* \n",
      "  ***********  \n",
      "   *********   \n",
      "    *******    \n",
      "     *****     \n",
      "      ***      \n",
      "       *       \n"
     ]
    }
   ],
   "source": [
    "def print_heart():\n",
    "    heart = [\n",
    "        \"  ***     ***  \",\n",
    "        \" *****   ***** \",\n",
    "        \"******* *******\",\n",
    "        \" ************* \",\n",
    "        \"  ***********  \",\n",
    "        \"   *********   \",\n",
    "        \"    *******    \",\n",
    "        \"     *****     \",\n",
    "        \"      ***      \",\n",
    "        \"       *       \"\n",
    "    ]\n",
    "    \n",
    "    for line in heart:\n",
    "        print(line)\n",
    "\n",
    "# Llama a la función para dibujar el corazón\n",
    "print_heart()\n",
    "\n",
    "#Si, ha sido chat GPT, lo reconozco, no me escondo, pero solo ha sido el corazón, el resto he sido yo! :=)"
   ]
  }
 ],
 "metadata": {
  "kernelspec": {
   "display_name": "hackio",
   "language": "python",
   "name": "python3"
  },
  "language_info": {
   "codemirror_mode": {
    "name": "ipython",
    "version": 3
   },
   "file_extension": ".py",
   "mimetype": "text/x-python",
   "name": "python",
   "nbconvert_exporter": "python",
   "pygments_lexer": "ipython3",
   "version": "3.11.9"
  }
 },
 "nbformat": 4,
 "nbformat_minor": 2
}
