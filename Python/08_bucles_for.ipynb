{
 "cells": [
  {
   "cell_type": "markdown",
   "metadata": {},
   "source": [
    "<div style=\"text-align: center;\">\n",
    "  <img src=\"https://github.com/Hack-io-Data/Imagenes/blob/main/01-LogosHackio/logo_celeste@4x.png?raw=true\" alt=\"logo hack(io)\" />\n",
    "</div>"
   ]
  },
  {
   "cell_type": "markdown",
   "metadata": {},
   "source": [
    "####  1. Genera una lista de números del 0 al 4 y luego imprime cada número en la lista usando un `bucle for`. "
   ]
  },
  {
   "cell_type": "code",
   "execution_count": 1,
   "metadata": {},
   "outputs": [
    {
     "name": "stdout",
     "output_type": "stream",
     "text": [
      "0\n",
      "1\n",
      "2\n",
      "3\n",
      "4\n"
     ]
    }
   ],
   "source": [
    "numeros = [0,1,2,3,4]\n",
    "\n",
    "for numero in numeros:\n",
    "    print(numero)"
   ]
  },
  {
   "cell_type": "markdown",
   "metadata": {},
   "source": [
    "#### 2. Itera sobre una lista de frutas y muestra cada fruta en mayúsculas. \n"
   ]
  },
  {
   "cell_type": "code",
   "execution_count": 2,
   "metadata": {},
   "outputs": [
    {
     "name": "stdout",
     "output_type": "stream",
     "text": [
      "PLÁTANO\n",
      "MANZANA\n",
      "KIWI\n",
      "PIÑA\n",
      "MELÓN\n",
      "SANDÍA\n"
     ]
    }
   ],
   "source": [
    "frutas = [\"Plátano\",\"Manzana\",\"Kiwi\",\"Piña\",\"Melón\",\"Sandía\"]\n",
    "for fruta in frutas:\n",
    "    print(fruta.upper())"
   ]
  },
  {
   "cell_type": "markdown",
   "metadata": {},
   "source": [
    "####  3. Genera un bucle while que imprima los números del 0 al 4. \n"
   ]
  },
  {
   "cell_type": "code",
   "execution_count": 3,
   "metadata": {},
   "outputs": [
    {
     "name": "stdout",
     "output_type": "stream",
     "text": [
      "0\n",
      "1\n",
      "2\n",
      "3\n",
      "4\n"
     ]
    }
   ],
   "source": [
    "numeros = [0,1,2,3,4]\n",
    "i = 0\n",
    "while i < 5:\n",
    "    print(numeros[i])\n",
    "    i += 1"
   ]
  },
  {
   "cell_type": "markdown",
   "metadata": {},
   "source": [
    "#### 4. Genera un bucle del 0 al 9, pero que se detenga en el 5.\n"
   ]
  },
  {
   "cell_type": "code",
   "execution_count": 4,
   "metadata": {},
   "outputs": [
    {
     "name": "stdout",
     "output_type": "stream",
     "text": [
      "0\n",
      "1\n",
      "2\n",
      "3\n",
      "4\n",
      "5\n"
     ]
    }
   ],
   "source": [
    "numeros = [0,1,2,3,4,5,6,7,8,9]\n",
    "i = 0 \n",
    "while i < 6:\n",
    "    print(numeros[i])\n",
    "    i += 1"
   ]
  },
  {
   "cell_type": "markdown",
   "metadata": {},
   "source": [
    "#### 5. Recorre los números del 0 al 9 e imprime solo los números impares."
   ]
  },
  {
   "cell_type": "code",
   "execution_count": 9,
   "metadata": {},
   "outputs": [
    {
     "name": "stdout",
     "output_type": "stream",
     "text": [
      "1\n",
      "3\n",
      "5\n",
      "7\n",
      "9\n"
     ]
    }
   ],
   "source": [
    "numeros = [0,1,2,3,4,5,6,7,8,9]\n",
    "for numero in numeros:\n",
    "    if numero % 2 != 0:\n",
    "        print(numero)"
   ]
  },
  {
   "cell_type": "markdown",
   "metadata": {},
   "source": [
    "#### 6. Dada la lista `[10, 20, 30, 40, 50]`, calcula la suma de todos los elementos usando un bucle `for`."
   ]
  },
  {
   "cell_type": "code",
   "execution_count": 10,
   "metadata": {},
   "outputs": [
    {
     "name": "stdout",
     "output_type": "stream",
     "text": [
      "150\n"
     ]
    }
   ],
   "source": [
    "sumar = [10,20,30,40,50]\n",
    "total = 0\n",
    "for suma in sumar:\n",
    "    total += suma # el += es lo mismo que total = total + suma\n",
    "\n",
    "print(total)\n"
   ]
  },
  {
   "cell_type": "markdown",
   "metadata": {},
   "source": [
    "#### 7. Dada la cadena `\"Hola mundo\"`, cuenta cuántas veces aparecen las vocales (`a`, `e`, `i`, `o`, `u`) usando un bucle `for`.\n"
   ]
  },
  {
   "cell_type": "code",
   "execution_count": 11,
   "metadata": {},
   "outputs": [
    {
     "name": "stdout",
     "output_type": "stream",
     "text": [
      "El número de vocales es: 4\n"
     ]
    }
   ],
   "source": [
    "frase = \"Hola Mundo\"\n",
    "buscar = \"aeiou\"\n",
    "cuenta = 0\n",
    "\n",
    "for vocal in frase:\n",
    "    if vocal in buscar:\n",
    "        cuenta +=1\n",
    "\n",
    "print(f\"El número de vocales es: {cuenta}\")\n",
    "\n"
   ]
  },
  {
   "cell_type": "markdown",
   "metadata": {},
   "source": [
    "#### 8. Dada la cadena `\"Python\"`, usa un bucle `for` para imprimir los caracteres en orden inverso (`n`, `o`, `h`, `t`, `y`, `P`).\n"
   ]
  },
  {
   "cell_type": "code",
   "execution_count": 16,
   "metadata": {},
   "outputs": [
    {
     "name": "stdout",
     "output_type": "stream",
     "text": [
      "n\n",
      "o\n",
      "h\n",
      "t\n",
      "y\n",
      "P\n"
     ]
    }
   ],
   "source": [
    "cadena = \"Python\"\n",
    "longitud_cadena = len(cadena)\n",
    "\n",
    "for inverso in cadena:\n",
    "    if longitud_cadena >= 0:\n",
    "        print(cadena[longitud_cadena-1])\n",
    "        longitud_cadena -= 1"
   ]
  },
  {
   "cell_type": "markdown",
   "metadata": {},
   "source": [
    "#### 9. Dada la lista `[1, 2, 3, 4, 5]`, multiplica todos sus elementos usando un bucle `for` y almacena los resultados en una lista nueva. \n"
   ]
  },
  {
   "cell_type": "code",
   "execution_count": 17,
   "metadata": {},
   "outputs": [
    {
     "name": "stdout",
     "output_type": "stream",
     "text": [
      "[2, 4, 6, 8, 10]\n"
     ]
    }
   ],
   "source": [
    "#Vamos a multiplicar por 2\n",
    "lista = [1,2,3,4,5]\n",
    "new_lista = []\n",
    "for numero in lista:\n",
    "    new_lista.append(numero * 2)\n",
    "print(new_lista)\n",
    "\n"
   ]
  },
  {
   "cell_type": "markdown",
   "metadata": {},
   "source": [
    "#### 10. Dada la lista `[1, 2, 3, 4, 5, 6, 7, 8, 9, 10]`, utiliza un bucle `for` para contar cuántos números son pares y cuántos son impares."
   ]
  },
  {
   "cell_type": "code",
   "execution_count": 18,
   "metadata": {},
   "outputs": [
    {
     "name": "stdout",
     "output_type": "stream",
     "text": [
      "Hay 5 números pares.\n"
     ]
    }
   ],
   "source": [
    "lista = [1,2,3,4,5,6,7,8,9,10]\n",
    "pares = 0\n",
    "for contar in lista:\n",
    "    if contar % 2 == 0:\n",
    "        pares += 1\n",
    "    else: \n",
    "        pares += 0\n",
    "print(f\"Hay {pares} números pares.\")"
   ]
  },
  {
   "cell_type": "markdown",
   "metadata": {},
   "source": [
    "#### 11. Escribe un programa que solicite al usuario un número entero positivo (`n`) y calcule la suma de todos los números primos menores o iguales a `n`. Utiliza un bucle `for` para iterar sobre cada número y verifica si es primo."
   ]
  },
  {
   "cell_type": "code",
   "execution_count": 29,
   "metadata": {},
   "outputs": [
    {
     "name": "stdout",
     "output_type": "stream",
     "text": [
      "5 es primo\n",
      "3 es primo\n",
      "2 es primo\n",
      "La suma de los números primos menores o iguales a 6 es: 10\n"
     ]
    }
   ],
   "source": [
    "numero = int(input(\"Inserta un número entero positivo: \"))\n",
    "cont = numero\n",
    "suma = 0\n",
    "lista_nums = []\n",
    "\n",
    "while cont > 1:  # No incluimos 1 ni 0 porque no son primos\n",
    "    lista_nums.append(cont)\n",
    "    cont -= 1\n",
    "\n",
    "for num in lista_nums:\n",
    "    es_primo = True\n",
    "\n",
    "    for i in range(2, num): \n",
    "        if num % i == 0:  # Si tiene algún divisor\n",
    "            es_primo = False #no es primo\n",
    "            \n",
    "    # Si el número es primo, lo sumamos\n",
    "    if es_primo:\n",
    "        print(f\"{num} es primo\")\n",
    "        suma += num\n",
    "\n",
    "print(f\"La suma de los números primos menores o iguales a {numero} es: {suma}\")\n"
   ]
  },
  {
   "cell_type": "markdown",
   "metadata": {},
   "source": [
    "#### 12. Escribe un programa que solicite al usuario un número entero positivo (`n`) y luego imprima un patrón de asteriscos como el siguiente ejemplo para `n = 5`:\n",
    "```\n",
    "*\n",
    "**\n",
    "***\n",
    "****\n",
    "*****\n",
    "```\n",
    "Utiliza un bucle `for` anidado para controlar la cantidad de asteriscos en cada línea."
   ]
  },
  {
   "cell_type": "code",
   "execution_count": 1,
   "metadata": {},
   "outputs": [
    {
     "name": "stdout",
     "output_type": "stream",
     "text": [
      "*\n",
      "**\n",
      "***\n",
      "****\n",
      "*****\n",
      "******\n",
      "*******\n",
      "********\n",
      "*********\n",
      "**********\n",
      "***********\n",
      "************\n",
      "*************\n",
      "**************\n",
      "***************\n",
      "****************\n",
      "*****************\n",
      "******************\n",
      "*******************\n",
      "********************\n",
      "*********************\n",
      "**********************\n",
      "***********************\n",
      "************************\n",
      "*************************\n",
      "**************************\n",
      "***************************\n",
      "****************************\n",
      "*****************************\n",
      "******************************\n",
      "*******************************\n",
      "********************************\n",
      "*********************************\n",
      "**********************************\n",
      "***********************************\n",
      "************************************\n",
      "*************************************\n",
      "**************************************\n",
      "***************************************\n",
      "****************************************\n",
      "*****************************************\n",
      "******************************************\n",
      "*******************************************\n",
      "********************************************\n",
      "*********************************************\n",
      "**********************************************\n",
      "***********************************************\n",
      "************************************************\n",
      "*************************************************\n",
      "**************************************************\n",
      "***************************************************\n",
      "****************************************************\n",
      "*****************************************************\n",
      "******************************************************\n",
      "*******************************************************\n"
     ]
    }
   ],
   "source": [
    "input = int(input(\"Inserta un número entero positivo: \"))\n",
    "asterisco = \"*\"\n",
    "for i in range(1,input):\n",
    "    print(asterisco * i)\n"
   ]
  },
  {
   "cell_type": "markdown",
   "metadata": {},
   "source": [
    "#### 13. Dado un texto, utiliza un bucle `for` para contar cuántas veces aparece cada palabra en el texto. Ignora mayúsculas/minúsculas y los signos de puntuación."
   ]
  },
  {
   "cell_type": "code",
   "execution_count": 6,
   "metadata": {},
   "outputs": [
    {
     "name": "stdout",
     "output_type": "stream",
     "text": [
      "En el texto: 'Hola que tal hola hola cola papa mama si señor oye yeye yeye', La palabra 'Hola' aparece 1 veces\n",
      "En el texto: 'Hola que tal hola hola cola papa mama si señor oye yeye yeye', La palabra 'que' aparece 1 veces\n",
      "En el texto: 'Hola que tal hola hola cola papa mama si señor oye yeye yeye', La palabra 'tal' aparece 1 veces\n",
      "En el texto: 'Hola que tal hola hola cola papa mama si señor oye yeye yeye', La palabra 'hola' aparece 2 veces\n",
      "En el texto: 'Hola que tal hola hola cola papa mama si señor oye yeye yeye', La palabra 'cola' aparece 1 veces\n",
      "En el texto: 'Hola que tal hola hola cola papa mama si señor oye yeye yeye', La palabra 'papa' aparece 1 veces\n",
      "En el texto: 'Hola que tal hola hola cola papa mama si señor oye yeye yeye', La palabra 'mama' aparece 1 veces\n",
      "En el texto: 'Hola que tal hola hola cola papa mama si señor oye yeye yeye', La palabra 'si' aparece 1 veces\n",
      "En el texto: 'Hola que tal hola hola cola papa mama si señor oye yeye yeye', La palabra 'señor' aparece 1 veces\n",
      "En el texto: 'Hola que tal hola hola cola papa mama si señor oye yeye yeye', La palabra 'oye' aparece 1 veces\n",
      "En el texto: 'Hola que tal hola hola cola papa mama si señor oye yeye yeye', La palabra 'yeye' aparece 2 veces\n"
     ]
    }
   ],
   "source": [
    "texto = input(\"Introduce un texto: \")\n",
    "textol = texto.lower()\n",
    "textol = texto.split()\n",
    "palabras = set()\n",
    "for palabra in textol:\n",
    "  if palabra not in palabras:\n",
    "    print(f\"En el texto: '{texto}', La palabra '{palabra}' aparece {textol.count(palabra)} veces\")\n",
    "    palabras.add(palabra)\n"
   ]
  },
  {
   "cell_type": "markdown",
   "metadata": {},
   "source": [
    "#### 14. Escribe un programa que solicite al usuario dos números enteros positivos (`inicio` y `fin`, donde `inicio <= fin`) y luego calcule la suma de los números pares y la suma de los números impares en ese rango. Utiliza un bucle `for` para iterar sobre cada número y una estructura `if-else` para clasificar y sumar los números pares e impares."
   ]
  },
  {
   "cell_type": "code",
   "execution_count": 11,
   "metadata": {},
   "outputs": [
    {
     "name": "stdout",
     "output_type": "stream",
     "text": [
      "Suma pares = 240\n",
      "Suma impares = 225\n"
     ]
    }
   ],
   "source": [
    "inicio = int(input(\"Introduce un entero positivo de inicio: \")) \n",
    "fin = int(input(\"Introduce un entero positivo final: \"))\n",
    "numeros = []\n",
    "sumapares = 0\n",
    "sumaimpares = 0\n",
    "for i in range(inicio,fin+1):\n",
    "    numeros.append(i)\n",
    "for numbs in numeros:\n",
    "    if numbs % 2 == 0:\n",
    "        sumapares += numbs\n",
    "    else:\n",
    "        sumaimpares += numbs\n",
    "\n",
    "print(f\"Suma pares = {sumapares}\")\n",
    "print(f\"Suma impares = {sumaimpares}\")\n"
   ]
  },
  {
   "cell_type": "markdown",
   "metadata": {},
   "source": [
    "#### 15. Escribe un programa que solicite al usuario un número entero positivo (`n`) y luego identifique todos los números primos menores o iguales a `n`. Para cada número, imprime si es primo o no usando un bucle `for` y una estructura `if-else` para verificar la condición de primalidad."
   ]
  },
  {
   "cell_type": "code",
   "execution_count": 13,
   "metadata": {},
   "outputs": [
    {
     "name": "stdout",
     "output_type": "stream",
     "text": [
      "12 no es primo\n",
      "11 es primo\n",
      "10 no es primo\n",
      "9 no es primo\n",
      "8 no es primo\n",
      "7 es primo\n",
      "6 no es primo\n",
      "5 es primo\n",
      "4 no es primo\n",
      "3 es primo\n",
      "2 es primo\n"
     ]
    }
   ],
   "source": [
    "numero = int(input(\"Inserta un número entero positivo: \"))\n",
    "cont = numero\n",
    "suma = 0\n",
    "lista_nums = []\n",
    "\n",
    "while cont > 1: \n",
    "    lista_nums.append(cont)\n",
    "    cont -= 1\n",
    "\n",
    "for num in lista_nums:\n",
    "    es_primo = True\n",
    "\n",
    "    for i in range(2, num):\n",
    "        if num % i == 0:  \n",
    "            es_primo = False\n",
    "            \n",
    "    if es_primo:\n",
    "        print(f\"{num} es primo\")\n",
    "    else:\n",
    "        print(f\"{num} no es primo\")\n",
    "\n"
   ]
  },
  {
   "cell_type": "markdown",
   "metadata": {},
   "source": [
    "#### 16.Dada una lista de precios `[100, 200, 300, 400, 500]`, aplica un descuento del 10% a todos los precios mayores a `250`. Imprime la lista actualizada de precios después de aplicar el descuento utilizando un bucle `for`. "
   ]
  },
  {
   "cell_type": "code",
   "execution_count": 21,
   "metadata": {},
   "outputs": [
    {
     "name": "stdout",
     "output_type": "stream",
     "text": [
      "[100, 200, 270.0, 360.0, 450.0]\n"
     ]
    }
   ],
   "source": [
    "precios = [100, 200, 300, 400, 500]\n",
    "new_price = []\n",
    "\n",
    "for precio in precios:\n",
    "    if precio >= 250:\n",
    "        precio_con_descuento = precio - (precio * 0.1) \n",
    "        new_price.append(precio_con_descuento)\n",
    "    else:\n",
    "        new_price.append(precio) \n",
    "\n",
    "print(new_price)\n",
    "\n"
   ]
  },
  {
   "cell_type": "markdown",
   "metadata": {},
   "source": [
    "#### 17. Dada una lista de calificaciones de estudiantes `[85, 92, 78, 90, 88]`, clasifica a cada estudiante como \"Aprobado\" si la calificación es mayor o igual a `80` y como \"Reprobado\" si es menor a `80`. Imprime el nombre de cada estudiante junto con su estado utilizando un bucle `for` y una estructura `if-else`.\n"
   ]
  },
  {
   "cell_type": "code",
   "execution_count": 22,
   "metadata": {},
   "outputs": [
    {
     "name": "stdout",
     "output_type": "stream",
     "text": [
      "El alumno Manuel está Aprobado\n",
      "El alumno Juan está Aprobado\n",
      "El alumno Álvaro está Reprobado\n",
      "El alumno Jorge está Aprobado\n",
      "El alumno Víctor está Aprobado\n"
     ]
    }
   ],
   "source": [
    "calificaciones = [85,92,78,90,88]\n",
    "estudiantes = [\"Manuel\",\"Juan\",\"Álvaro\",\"Jorge\",\"Víctor\"]\n",
    "i = 0 \n",
    "for nota in calificaciones:\n",
    "    if nota >= 80:\n",
    "        print(f\"El alumno {estudiantes[i]} está Aprobado\")\n",
    "        i += 1\n",
    "    else:\n",
    "        print(f\"El alumno {estudiantes[i]} está Reprobado\")\n",
    "        i += 1\n"
   ]
  },
  {
   "cell_type": "markdown",
   "metadata": {},
   "source": [
    "\n",
    "#### 18. Escribe un programa que solicite al usuario dos números enteros positivos (`inicio`, `fin`) y otro número entero positivo (`divisor`). Encuentra el número más grande en el rango desde `inicio` hasta `fin` que sea divisible por `divisor`. Utiliza un bucle `for` y una estructura `if-else` para verificar y mantener el registro del número más grande divisible por el divisor dado.\n"
   ]
  },
  {
   "cell_type": "code",
   "execution_count": 23,
   "metadata": {},
   "outputs": [
    {
     "name": "stdout",
     "output_type": "stream",
     "text": [
      "El número más grande divisible por 2, es el 250\n"
     ]
    }
   ],
   "source": [
    "inicio = int(input(\"Introduce un entero positivo de inicio: \")) \n",
    "fin = int(input(\"Introduce un entero positivo final: \"))\n",
    "divisor = int(input(\"Introduce un entero positivo divisor: \"))\n",
    "\n",
    "numerito = 0\n",
    "\n",
    "for num in range(inicio, fin + 1):\n",
    "    if num % divisor == 0:\n",
    "        numerito = num\n",
    "\n",
    "print(f\"El número más grande divisible por {divisor}, es el {numerito}\")"
   ]
  }
 ],
 "metadata": {
  "kernelspec": {
   "display_name": "hackio",
   "language": "python",
   "name": "python3"
  },
  "language_info": {
   "codemirror_mode": {
    "name": "ipython",
    "version": 3
   },
   "file_extension": ".py",
   "mimetype": "text/x-python",
   "name": "python",
   "nbconvert_exporter": "python",
   "pygments_lexer": "ipython3",
   "version": "3.11.9"
  }
 },
 "nbformat": 4,
 "nbformat_minor": 2
}
