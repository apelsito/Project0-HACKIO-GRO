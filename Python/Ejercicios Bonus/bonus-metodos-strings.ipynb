{
 "cells": [
  {
   "cell_type": "markdown",
   "metadata": {},
   "source": [
    "<div style=\"text-align: center;\">\n",
    "  <img src=\"https://github.com/Hack-io-Data/Imagenes/blob/main/01-LogosHackio/logo_celeste@4x.png?raw=true\" alt=\"esquema\" />\n",
    "</div>"
   ]
  },
  {
   "cell_type": "markdown",
   "metadata": {},
   "source": [
    "\n",
    "#### Genera un dicionario con los nombres, apellidos y empresas de la siguinete lista de correos. \n",
    "\n",
    "Te deberá quedar un diccionario parecido al que se muestra a continuación: \n",
    "\n",
    "![resultado](https://github.com/Hack-io-Data/Imagenes/blob/main/04-Prework/Python/diccionario-bonus-strings.png?raw=true)"
   ]
  },
  {
   "cell_type": "code",
   "execution_count": 10,
   "metadata": {},
   "outputs": [
    {
     "name": "stdout",
     "output_type": "stream",
     "text": [
      "[{'nombre': 'john', 'apellido': 'doe', 'empresa': 'tecnologiainnovadora'}, {'nombre': 'jane', 'apellido': 'doe', 'empresa': 'empresatecnologica'}, {'nombre': 'jim', 'apellido': 'smith', 'empresa': 'solucionesdigitales'}, {'nombre': 'mary', 'apellido': 'jane', 'empresa': 'tecnologiapionera'}, {'nombre': 'bob', 'apellido': 'jones', 'empresa': 'innovaciontecnologica'}, {'nombre': 'alice', 'apellido': 'smith', 'empresa': 'desarrollotecnologico'}, {'nombre': 'tom', 'apellido': 'jones', 'empresa': 'tecnologiadinamica'}, {'nombre': 'sally', 'apellido': 'jones', 'empresa': 'tecnologiamoderna'}, {'nombre': 'jerry', 'apellido': 'smith', 'empresa': 'solucionestech'}, {'nombre': 'beth', 'apellido': 'jones', 'empresa': 'tecnologiavanguardista'}, {'nombre': 'john', 'apellido': 'smith', 'empresa': 'tecnologiasavanzadas'}, {'nombre': 'jane', 'apellido': 'doe', 'empresa': 'empresadigital'}, {'nombre': 'jim', 'apellido': 'jones', 'empresa': 'tecnologiadinamica'}, {'nombre': 'mary', 'apellido': 'smith', 'empresa': 'innovaciondigital'}, {'nombre': 'bob', 'apellido': 'doe', 'empresa': 'solucionesinformaticas'}]\n"
     ]
    }
   ],
   "source": [
    "a = \"\"\"john.doe@tecnologiainnovadora.com\n",
    "jane.doe@empresatecnologica.com\n",
    "jim.smith@solucionesdigitales.com\n",
    "mary.jane@tecnologiapionera.com\n",
    "bob.jones@innovaciontecnologica.com\n",
    "alice.smith@desarrollotecnologico.com\n",
    "tom.jones@tecnologiadinamica.com\n",
    "sally.jones@tecnologiamoderna.com\n",
    "jerry.smith@solucionestech.com\n",
    "beth.jones@tecnologiavanguardista.com\n",
    "john.smith@tecnologiasavanzadas.com\n",
    "jane.doe@empresadigital.com\n",
    "jim.jones@tecnologiadinamica.com\n",
    "mary.smith@innovaciondigital.com\n",
    "bob.doe@solucionesinformaticas.com\n",
    "\"\"\"\n",
    "\n",
    "mails = a.split()\n",
    "personas = []\n",
    "\n",
    "for mail in mails:\n",
    "    fullname, empresa = mail.split(\"@\") #Separamos por el @ en dos variables\n",
    "    nombre , apellido = fullname.split(\".\") #separamos en dos variables nombre y apellido\n",
    "    empresa = empresa.split(\".\")[0] #nos quedamos con todo antes del .com\n",
    "\n",
    "    persona = {\n",
    "        'nombre' : nombre,\n",
    "        'apellido' : apellido,\n",
    "        'empresa' : empresa\n",
    "    }\n",
    "\n",
    "    personas.append(persona)\n",
    "\n",
    "\n",
    "print(personas)\n",
    "    "
   ]
  }
 ],
 "metadata": {
  "kernelspec": {
   "display_name": "hackio",
   "language": "python",
   "name": "python3"
  },
  "language_info": {
   "codemirror_mode": {
    "name": "ipython",
    "version": 3
   },
   "file_extension": ".py",
   "mimetype": "text/x-python",
   "name": "python",
   "nbconvert_exporter": "python",
   "pygments_lexer": "ipython3",
   "version": "3.11.9"
  }
 },
 "nbformat": 4,
 "nbformat_minor": 2
}
