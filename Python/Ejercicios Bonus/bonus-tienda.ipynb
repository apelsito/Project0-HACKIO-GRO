{
 "cells": [
  {
   "cell_type": "markdown",
   "metadata": {},
   "source": [
    "<div style=\"text-align: center;\">\n",
    "  <img src=\"https://github.com/Hack-io-Data/Imagenes/blob/main/01-LogosHackio/logo_celeste@4x.png?raw=true\" alt=\"esquema\" />\n",
    "</div>\n"
   ]
  },
  {
   "cell_type": "markdown",
   "metadata": {},
   "source": [
    "En este ejercicio, se te pedirá que escribas un programa en Python que utilice condicionales para determinar el monto final de una compra en una tienda en línea, después de aplicar un descuento. El programa debe hacer lo siguiente:\n",
    "\n",
    "1. Solicita al usuario que ingrese el precio original de un artículo.\n",
    "\n",
    "2. Pregunta al usuario si tiene un cupón de descuento (respuesta sí o no).\n",
    "\n",
    "3. Si el usuario responde que sí, solicita que ingrese el valor del cupón de descuento.\n",
    "\n",
    "4. Aplica el descuento al precio original del artículo, siempre y cuando el valor del cupón sea válido (es decir, mayor a cero). Por ejemplo, descuento de 15€. \n",
    "\n",
    "5. Muestra el precio final de la compra, teniendo en cuenta el descuento aplicado o sin él. \n",
    "\n",
    "6. Recuerda utilizar estructuras de control de flujo como if, elif y else para llevar a cabo estas acciones en tu programa de Python."
   ]
  },
  {
   "cell_type": "code",
   "execution_count": 1,
   "metadata": {},
   "outputs": [
    {
     "name": "stdout",
     "output_type": "stream",
     "text": [
      "introduce un descuento válido\n",
      "introduce un descuento válido\n",
      "El total de tu compra es: 10.0\n"
     ]
    }
   ],
   "source": [
    "og_price = float(input(\"inserta el valor del artículo: \"))\n",
    "descuento = input(\"Tienes, un cupón de descuento?: Si / No\")\n",
    "descuento = descuento.lower()\n",
    "continuar = False\n",
    "if descuento == \"si\":\n",
    "    while continuar == False:\n",
    "        cantidad = float(input(\"Inserta el valor del descuento en euros: \"))\n",
    "        if cantidad > 0:\n",
    "            total = og_price - cantidad\n",
    "            if total <= 0:\n",
    "                print(f\"Tu cupón hace que la compra sea gratis!\")\n",
    "                continuar = True\n",
    "            else:\n",
    "                 print(f\"El total de tu compra es: {total}€\")\n",
    "                 continuar = True\n",
    "        else:\n",
    "            print(f\"introduce un descuento válido\")\n",
    "else:\n",
    "    print(f\"El total de tu compra es: {og_price}€\")\n",
    "\n"
   ]
  },
  {
   "cell_type": "markdown",
   "metadata": {},
   "source": [
    "Modifica el programa anterior para que el usuario ingrese un porcentaje de descuento en lugar de un valor fijo (por ejemplo, 30%). Aplica el descuento en base al porcentaje ingresado."
   ]
  },
  {
   "cell_type": "code",
   "execution_count": 2,
   "metadata": {},
   "outputs": [
    {
     "name": "stdout",
     "output_type": "stream",
     "text": [
      "El total de tu compra es: 90.0€\n"
     ]
    }
   ],
   "source": [
    "og_price = float(input(\"inserta el valor del artículo: \"))\n",
    "descuento = input(\"Tienes, un cupón de descuento?: Si / No\")\n",
    "descuento = descuento.lower()\n",
    "continuar = False\n",
    "if descuento == \"si\":\n",
    "    while continuar == False:\n",
    "        cantidad = float(input(\"Inserta el porcentaje de descuento: \"))\n",
    "        if cantidad > 0:\n",
    "            descuento = cantidad/100\n",
    "            total_descuento = og_price * descuento\n",
    "            total = og_price - total_descuento\n",
    "            if total <= 0:\n",
    "                print(f\"Tu cupón hace que la compra sea gratis!\")\n",
    "                continuar = True\n",
    "            else:\n",
    "                 print(f\"El total de tu compra es: {total}€\")\n",
    "                 continuar = True\n",
    "        else:\n",
    "            print(f\"introduce un descuento válido\")\n",
    "else:\n",
    "    print(f\"El total de tu compra es: {og_price}€\")"
   ]
  },
  {
   "cell_type": "markdown",
   "metadata": {},
   "source": [
    "Modifica el programa anterior agregando un límite al descuento, donde el descuento mínimo sea del 5% y el máximo del 50%. Si el usuario ingresa un porcentaje fuera de este rango, notifíquele y aplique el descuento mínimo o máximo según sea el caso."
   ]
  },
  {
   "cell_type": "code",
   "execution_count": 6,
   "metadata": {},
   "outputs": [
    {
     "name": "stdout",
     "output_type": "stream",
     "text": [
      "El total de tu compra es: 100.0€\n"
     ]
    }
   ],
   "source": [
    "og_price = float(input(\"inserta el valor del artículo: \"))\n",
    "descuento = input(\"Tienes, un cupón de descuento?: Si / No\")\n",
    "descuento = descuento.lower()\n",
    "continuar = False\n",
    "if descuento == \"si\":\n",
    "    while continuar == False:\n",
    "        cantidad = float(input(\"Inserta el porcentaje de descuento: \"))\n",
    "        if cantidad < 5:\n",
    "            print(f\"Su cupón es menor al descuento mínimo, le aplicaremos el 5%\")\n",
    "            cantidad = 5\n",
    "            descuento = cantidad/100\n",
    "            total_descuento = og_price * descuento\n",
    "            total = og_price - total_descuento\n",
    "            if total <= 0:\n",
    "                print(f\"Tu cupón hace que la compra sea gratis!\")\n",
    "                continuar = True\n",
    "            else:\n",
    "                 print(f\"El total de tu compra es: {total}€\")\n",
    "                 continuar = True\n",
    "        elif cantidad > 50:\n",
    "            print(f\"Su cupón supera el máximo permitido, le aplicaremos el 50%\")\n",
    "            cantidad = 50\n",
    "            descuento = cantidad/100\n",
    "            total_descuento = og_price * descuento\n",
    "            total = og_price - total_descuento\n",
    "            if total <= 0:\n",
    "                print(f\"Tu cupón hace que la compra sea gratis!\")\n",
    "                continuar = True\n",
    "            else:\n",
    "                 print(f\"El total de tu compra es: {total}€\")\n",
    "                 continuar = True\n",
    "        else:\n",
    "            descuento = cantidad/100\n",
    "            total_descuento = og_price * descuento\n",
    "            total = og_price - total_descuento\n",
    "            if total <= 0:\n",
    "                print(f\"Tu cupón hace que la compra sea gratis!\")\n",
    "                continuar = True\n",
    "            else:\n",
    "                 print(f\"El total de tu compra es: {total}€\")\n",
    "                 continuar = True\n",
    "else:\n",
    "    print(f\"El total de tu compra es: {og_price}€\")"
   ]
  },
  {
   "cell_type": "markdown",
   "metadata": {},
   "source": [
    "Crea un programa nuevo que permita al usuario ingresar varios artículos, cada uno con su precio original y cupón de descuento. Aplica los descuentos correspondientes a cada producto y muestra el monto total final de la compra."
   ]
  },
  {
   "cell_type": "code",
   "execution_count": 15,
   "metadata": {},
   "outputs": [
    {
     "name": "stdout",
     "output_type": "stream",
     "text": [
      "Su cupón es menor al descuento mínimo, le aplicaremos el 5%\n",
      "Su cupón supera el máximo permitido, le aplicaremos el 50%\n",
      "El total de tu compra aplicando los descuentos (si hay) es de: 3496.6156€\n"
     ]
    }
   ],
   "source": [
    "factura = []\n",
    "stop = False\n",
    "\n",
    "while stop == False:\n",
    "    #Si usamos -1 se para\n",
    "    og_price = float(input(\"inserta el valor del artículo (-1 para no añadir más): \"))\n",
    "    if int(og_price) == -1:\n",
    "        stop = True\n",
    "    else:\n",
    "        descuento = input(\"Tienes, un cupón de descuento?: Si / No\")\n",
    "        descuento = descuento.lower()\n",
    "        continuar = False\n",
    "        if descuento == \"si\":\n",
    "            while continuar == False:\n",
    "                cantidad = float(input(\"Inserta el porcentaje de descuento: \"))\n",
    "                if cantidad < 5:\n",
    "                    print(f\"Su cupón es menor al descuento mínimo, le aplicaremos el 5%\")\n",
    "                    cantidad = 5\n",
    "                    descuento = cantidad/100\n",
    "                    total_descuento = og_price * descuento\n",
    "                    total = og_price - total_descuento\n",
    "                    if total <= 0:\n",
    "                        total = 0\n",
    "                        factura.append(total)\n",
    "                        continuar = True\n",
    "                    else:\n",
    "                        factura.append(total)\n",
    "                        continuar = True\n",
    "                elif cantidad > 50:\n",
    "                    print(f\"Su cupón supera el máximo permitido, le aplicaremos el 50%\")\n",
    "                    cantidad = 50\n",
    "                    descuento = cantidad/100\n",
    "                    total_descuento = og_price * descuento\n",
    "                    total = og_price - total_descuento\n",
    "                    if total <= 0:\n",
    "                        total = 0\n",
    "                        factura.append(total)\n",
    "                        continuar = True\n",
    "                    else:\n",
    "                        factura.append(total)\n",
    "                        continuar = True\n",
    "                else:\n",
    "                    descuento = cantidad/100\n",
    "                    total_descuento = og_price * descuento\n",
    "                    total = og_price - total_descuento\n",
    "                    if total <= 0:\n",
    "                        total = 0\n",
    "                        factura.append(total)\n",
    "                        continuar = True\n",
    "                    else:\n",
    "                        factura.append(total)\n",
    "                        continuar = True\n",
    "        else:\n",
    "            factura.append(og_price)\n",
    "\n",
    "suma = 0\n",
    "for producto in factura:\n",
    "    suma += producto\n",
    "\n",
    "print(f\"El total de tu compra aplicando los descuentos (si hay) es de: {suma}€\")\n"
   ]
  },
  {
   "cell_type": "markdown",
   "metadata": {},
   "source": [
    "Crea un nuevo programa que permita aplicar descuentos por categorías. En este caso, nuestra tienda aplicará descuentos en función de la categoría (por ejemplo, electrónica, ropa, juguetes). Pregunta al usuario a que categoría pertenece su producto y aplica el descuento correspondiente a la categoría. Debes solicitar al usuario que ingrese la categoría del articulo y el precio para aplicarle el descuento. "
   ]
  },
  {
   "cell_type": "code",
   "execution_count": 16,
   "metadata": {},
   "outputs": [
    {
     "name": "stdout",
     "output_type": "stream",
     "text": [
      "El total de tu compra aplicando los descuentos es de: 460.0€\n"
     ]
    }
   ],
   "source": [
    "factura = []\n",
    "stop = False\n",
    "\n",
    "while stop == False:\n",
    "    #Si usamos -1 se para\n",
    "    og_price = float(input(\"inserta el valor del artículo (-1 para no añadir más): \"))\n",
    "    if int(og_price) == -1:\n",
    "        stop = True\n",
    "    else:\n",
    "        descuento = input(\"Elige la categoría de tu producto: 'Electronica','Ropa','Juguetes'\")\n",
    "        descuento = descuento.lower()\n",
    "        if descuento == \"electronica\":\n",
    "            cantidad = 30 #30% en electronica\n",
    "            descuento = cantidad/100\n",
    "            total_descuento = og_price * descuento\n",
    "            total = og_price - total_descuento\n",
    "            factura.append(total)\n",
    "        \n",
    "        elif descuento == \"ropa\":\n",
    "            cantidad = 40 #40% en ropa\n",
    "            descuento = cantidad/100\n",
    "            total_descuento = og_price * descuento\n",
    "            total = og_price - total_descuento\n",
    "            factura.append(total)\n",
    "        \n",
    "        elif descuento == \"juguetes\":\n",
    "            cantidad = 10 #10% en juguetes\n",
    "            descuento = cantidad/100\n",
    "            total_descuento = og_price * descuento\n",
    "            total = og_price - total_descuento\n",
    "            factura.append(total)\n",
    "        else:\n",
    "            print(f\"Categoría no existente, reintente de nuevo\")\n",
    "\n",
    "suma = 0\n",
    "for producto in factura:\n",
    "    suma += producto\n",
    "\n",
    "print(f\"El total de tu compra aplicando los descuentos es de: {suma}€\")"
   ]
  },
  {
   "cell_type": "markdown",
   "metadata": {},
   "source": [
    "Crea un nuevo programa que aplique descuentos automáticos en función de la fecha actual. Aplica un descuento del 10% en compras realizadas entre lunes y viernes o un descuento del 15% en compras realizadas durante los fines de semana."
   ]
  },
  {
   "cell_type": "code",
   "execution_count": 3,
   "metadata": {},
   "outputs": [
    {
     "name": "stdout",
     "output_type": "stream",
     "text": [
      "El total de tu compra aplicando los descuentos es de: 306.0€\n"
     ]
    }
   ],
   "source": [
    "import datetime\n",
    "factura = []\n",
    "stop = False\n",
    "dia_actual = datetime.datetime.now().weekday()\n",
    "\n",
    "while stop == False:\n",
    "    #Si usamos -1 se para\n",
    "    og_price = float(input(\"inserta el valor del artículo (-1 para no añadir más): \"))\n",
    "    if int(og_price) == -1:\n",
    "        stop = True\n",
    "    else:\n",
    "        if 0 <= dia_actual < 5:\n",
    "            cantidad = 10 #10% entre semana\n",
    "            descuento = cantidad/100\n",
    "            total_descuento = og_price * descuento\n",
    "            total = og_price - total_descuento\n",
    "            factura.append(total)   \n",
    "        else:\n",
    "            cantidad = 15 #15% los findes\n",
    "            descuento = cantidad/100\n",
    "            total_descuento = og_price * descuento\n",
    "            total = og_price - total_descuento\n",
    "            factura.append(total) \n",
    "suma = 0\n",
    "for producto in factura:\n",
    "    suma += producto\n",
    "\n",
    "print(f\"El total de tu compra aplicando los descuentos es de: {suma}€\")  \n"
   ]
  },
  {
   "cell_type": "markdown",
   "metadata": {},
   "source": [
    "Crea un programa nuevo que implemente un sistema de membresía donde los usuarios registrados obtengan un descuento adicional del 5%. Solicita al usuario que ingrese su nombre de usuario y contraseña para verificar su membresía y aplique el descuento adicional si corresponde. \n",
    "\n",
    "📝 Nota: Para este ejercicio solo tendremos un usuario registrado. El usuario es `USUARIO` y la contraseña es  `USUARIO123`. \n"
   ]
  },
  {
   "cell_type": "code",
   "execution_count": 12,
   "metadata": {},
   "outputs": [
    {
     "name": "stdout",
     "output_type": "stream",
     "text": [
      "El total de tu compra aplicando los descuentos es de: 1100.0€\n"
     ]
    }
   ],
   "source": [
    "factura = []\n",
    "stop = False\n",
    "suma = 0\n",
    "bd_usuarios = {\n",
    "    \"USUARIOS\": \"USUARIO\",\n",
    "    \"PASSWORD\": \"USUARIO123\"\n",
    "}\n",
    "\n",
    "while stop == False:\n",
    "    #Si usamos -1 se para\n",
    "    og_price = float(input(\"inserta el valor del artículo (-1 para no añadir más): \"))\n",
    "    if int(og_price) == -1:\n",
    "        stop = True\n",
    "    else:\n",
    "        suma += og_price\n",
    "\n",
    "miembro = input(\"Eres miembro?: Si / No\")\n",
    "miembro = miembro.lower()\n",
    "check1 = False\n",
    "check2 = False\n",
    "if miembro == \"si\":\n",
    "    while check1 == False:\n",
    "        user = input(\"Ingresa tu usuario: \")\n",
    "        if user in bd_usuarios[\"USUARIOS\"]:\n",
    "            while check2 == False:\n",
    "                pwd = input(\"Ingresa tu contraseña: \")\n",
    "                if pwd in bd_usuarios[\"PASSWORD\"]:\n",
    "                    print(f\"Por ser miembro, recibes un 5% de descuento adicional\")\n",
    "                    cantidad = 5 #5% por ser usuario\n",
    "                    descuento = cantidad/100\n",
    "                    total_descuento = suma * descuento\n",
    "                    total = suma - total_descuento\n",
    "                    suma = total\n",
    "                    check1 = True\n",
    "                    check2 = True\n",
    "                else:\n",
    "                    print(f\"Contraseña incorrecta, reintente.\")\n",
    "                    check2 = False\n",
    "        else:\n",
    "            print(f\"Usuario incorrecto, reintente.\")\n",
    "\n",
    "print(f\"El total de tu compra aplicando los descuentos es de: {suma}€\")  \n",
    "            \n",
    "             \n",
    "            "
   ]
  },
  {
   "cell_type": "markdown",
   "metadata": {},
   "source": [
    "Crea un nuevo programa que ofrezca un descuento del 10% adicional si el usuario compra más de 5 artículos del mismo tipo. Debes verificar la cantidad de productos comprados y aplicar el descuento adicional si corresponde.\n"
   ]
  },
  {
   "cell_type": "code",
   "execution_count": 19,
   "metadata": {},
   "outputs": [
    {
     "name": "stdout",
     "output_type": "stream",
     "text": [
      "El total de tu compra aplicando los descuentos es de: 300.0€\n"
     ]
    }
   ],
   "source": [
    "factura = []\n",
    "stop = False\n",
    "electronicos = 0\n",
    "clothes = 0\n",
    "toys = 0\n",
    "\n",
    "while stop == False:\n",
    "    #Si usamos -1 se para\n",
    "    og_price = float(input(\"inserta el valor del artículo (-1 para no añadir más): \"))\n",
    "    if int(og_price) == -1:\n",
    "        stop = True\n",
    "    else:\n",
    "        descuento = input(\"Elige la categoría de tu producto: 'Electronica','Ropa','Juguetes'\")\n",
    "        descuento = descuento.lower()\n",
    "        if descuento == \"electronica\":\n",
    "            electronicos += 1\n",
    "            cantidad = 30 #30% en electronica\n",
    "            descuento = cantidad/100\n",
    "            total_descuento = og_price * descuento\n",
    "            total = og_price - total_descuento\n",
    "            factura.append(total)\n",
    "        \n",
    "        elif descuento == \"ropa\":\n",
    "            clothes += 1\n",
    "            cantidad = 40 #40% en ropa\n",
    "            descuento = cantidad/100\n",
    "            total_descuento = og_price * descuento\n",
    "            total = og_price - total_descuento\n",
    "            factura.append(total)\n",
    "        \n",
    "        elif descuento == \"juguetes\":\n",
    "            toys += 1\n",
    "            cantidad = 10 #10% en juguetes\n",
    "            descuento = cantidad/100\n",
    "            total_descuento = og_price * descuento\n",
    "            total = og_price - total_descuento\n",
    "            factura.append(total)\n",
    "        else:\n",
    "            print(f\"Categoría no existente, reintente de nuevo\")\n",
    "\n",
    "suma = 0\n",
    "for producto in factura:\n",
    "    suma += producto\n",
    "\n",
    "if electronicos >= 5 or clothes >= 5 or toys >= 5:\n",
    "    cantidad = 5\n",
    "    descuento = cantidad/100\n",
    "    total_descuento = suma * descuento\n",
    "    total = suma - total_descuento\n",
    "elif electronicos >= 5 and clothes >= 5 and toys < 5 or clothes >= 5 and toys >= 5 and electronicos < 5 or electronicos >= 5 and toys >= 5 and clothes < 5:\n",
    "    cantidad = 10\n",
    "    descuento = cantidad/100\n",
    "    total_descuento = suma * descuento\n",
    "    total = suma - total_descuento\n",
    "elif electronicos > 5 and clothes > 5 and toys > 5:\n",
    "    cantidad = 15\n",
    "    descuento = cantidad/100\n",
    "    total_descuento = suma * descuento\n",
    "    total = suma - total_descuento\n",
    "else: \n",
    "    total = suma\n",
    "\n",
    "\n",
    "print(f\"El total de tu compra aplicando los descuentos es de: {total}€\")\n"
   ]
  },
  {
   "cell_type": "markdown",
   "metadata": {},
   "source": [
    "Crea un nuevo programa que ofrezca descuentos progresivos en función del volumen de compra. Aplica un descuento del 5% para compras entre 100€ y 200€, un descuento del 10% para compras entre 200€ y 500€ y un descuento del 15% para compras superiores a 500€."
   ]
  },
  {
   "cell_type": "code",
   "execution_count": 1,
   "metadata": {},
   "outputs": [
    {
     "name": "stdout",
     "output_type": "stream",
     "text": [
      "El total de tu compra aplicando los descuentos es de: 95.0€\n"
     ]
    }
   ],
   "source": [
    "factura = []\n",
    "stop = False\n",
    "while stop == False:\n",
    "    #Si usamos -1 se para\n",
    "    og_price = float(input(\"inserta el valor del artículo (-1 para no añadir más): \"))\n",
    "    if int(og_price) == -1:\n",
    "        stop = True\n",
    "    else:\n",
    "        factura.append(og_price) \n",
    "\n",
    "suma = 0\n",
    "for producto in factura:\n",
    "    suma += producto\n",
    "\n",
    "if 100 <= suma <= 200:\n",
    "    cantidad = 5\n",
    "    descuento = cantidad/100\n",
    "    total_descuento = suma * descuento\n",
    "    total = suma - total_descuento\n",
    "elif 200 < suma < 500:\n",
    "    cantidad = 10\n",
    "    descuento = cantidad/100\n",
    "    total_descuento = suma * descuento\n",
    "    total = suma - total_descuento\n",
    "elif suma >= 500:\n",
    "    cantidad = 15\n",
    "    descuento = cantidad/100\n",
    "    total_descuento = suma * descuento\n",
    "    total = suma - total_descuento\n",
    "else:\n",
    "    total = suma\n",
    "\n",
    "\n",
    "print(f\"El total de tu compra aplicando los descuentos es de: {total}€\")"
   ]
  },
  {
   "cell_type": "markdown",
   "metadata": {},
   "source": [
    "Crea un nuevo programa  que ofrezca un descuento adicional del 3% si el usuario paga con tarjeta de crédito o débito. Solicita al usuario que ingrese el método de pago y el descuento original, por último aplica el descuento si corresponde."
   ]
  },
  {
   "cell_type": "code",
   "execution_count": 2,
   "metadata": {},
   "outputs": [
    {
     "name": "stdout",
     "output_type": "stream",
     "text": [
      "El total de tu compra aplicando los descuentos (si hay) es de: 351.0€\n",
      "Por pagar con tarjeta tienes descuento del 3%, tu nuevo total es 340.47€\n"
     ]
    }
   ],
   "source": [
    "factura = []\n",
    "stop = False\n",
    "\n",
    "while stop == False:\n",
    "    #Si usamos -1 se para\n",
    "    og_price = float(input(\"inserta el valor del artículo (-1 para no añadir más): \"))\n",
    "    if int(og_price) == -1:\n",
    "        stop = True\n",
    "    else:\n",
    "        descuento = input(\"Tienes, un cupón de descuento?: Si / No\")\n",
    "        descuento = descuento.lower()\n",
    "        continuar = False\n",
    "        if descuento == \"si\":\n",
    "            while continuar == False:\n",
    "                cantidad = float(input(\"Inserta el porcentaje de descuento: \"))\n",
    "                if cantidad < 5:\n",
    "                    print(f\"Su cupón es menor al descuento mínimo, le aplicaremos el 5%\")\n",
    "                    cantidad = 5\n",
    "                    descuento = cantidad/100\n",
    "                    total_descuento = og_price * descuento\n",
    "                    total = og_price - total_descuento\n",
    "                    if total <= 0:\n",
    "                        total = 0\n",
    "                        factura.append(total)\n",
    "                        continuar = True\n",
    "                    else:\n",
    "                        factura.append(total)\n",
    "                        continuar = True\n",
    "                elif cantidad > 50:\n",
    "                    print(f\"Su cupón supera el máximo permitido, le aplicaremos el 50%\")\n",
    "                    cantidad = 50\n",
    "                    descuento = cantidad/100\n",
    "                    total_descuento = og_price * descuento\n",
    "                    total = og_price - total_descuento\n",
    "                    if total <= 0:\n",
    "                        total = 0\n",
    "                        factura.append(total)\n",
    "                        continuar = True\n",
    "                    else:\n",
    "                        factura.append(total)\n",
    "                        continuar = True\n",
    "                else:\n",
    "                    descuento = cantidad/100\n",
    "                    total_descuento = og_price * descuento\n",
    "                    total = og_price - total_descuento\n",
    "                    if total <= 0:\n",
    "                        total = 0\n",
    "                        factura.append(total)\n",
    "                        continuar = True\n",
    "                    else:\n",
    "                        factura.append(total)\n",
    "                        continuar = True\n",
    "        else:\n",
    "            factura.append(og_price)\n",
    "\n",
    "suma = 0\n",
    "for producto in factura:\n",
    "    suma += producto\n",
    "\n",
    "print(f\"El total de tu compra aplicando los descuentos (si hay) es de: {suma}€\")\n",
    "\n",
    "check = False\n",
    "while check == False:\n",
    "    pago = input(\"Selecciona tu método de pago: Efectivo/Tarjeta\")\n",
    "    pago = pago.lower()\n",
    "    if pago == \"tarjeta\":\n",
    "        cantidad = 3\n",
    "        descuento = cantidad/100\n",
    "        total_descuento = suma * descuento\n",
    "        total = suma - total_descuento\n",
    "        print(f\"Por pagar con tarjeta tienes descuento del 3%, tu nuevo total es {total}€\")\n",
    "        check = True\n",
    "    else:\n",
    "        print(f\"Pase por caja para abonar lo que debe.\")"
   ]
  }
 ],
 "metadata": {
  "kernelspec": {
   "display_name": "hackio",
   "language": "python",
   "name": "python3"
  },
  "language_info": {
   "codemirror_mode": {
    "name": "ipython",
    "version": 3
   },
   "file_extension": ".py",
   "mimetype": "text/x-python",
   "name": "python",
   "nbconvert_exporter": "python",
   "pygments_lexer": "ipython3",
   "version": "3.11.9"
  }
 },
 "nbformat": 4,
 "nbformat_minor": 2
}
