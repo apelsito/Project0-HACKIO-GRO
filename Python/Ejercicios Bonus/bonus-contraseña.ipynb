{
 "cells": [
  {
   "cell_type": "markdown",
   "metadata": {},
   "source": [
    "<div style=\"text-align: center;\">\n",
    "  <img src=\"https://github.com/Hack-io-Data/Imagenes/blob/main/01-LogosHackio/logo_celeste@4x.png?raw=true\" alt=\"esquema\" />\n",
    "</div>\n"
   ]
  },
  {
   "cell_type": "markdown",
   "metadata": {},
   "source": [
    "# Comprobación de calidad de contraseñas\n",
    "\n",
    "En este ejercicio, tendrás que generar un programa que sea capaz de comprobar la calidad de contraseñas. La seguridad de nuestras contraseñas es fundamental para proteger nuestra información personal y evitar posibles ataques cibernéticos. Para ello, vamos a crear una función llamada `verificar_seguridad_password` que evaluará la calidad de una contraseña. Esta función tomará como argumento la contraseña a evaluar y devolverá si la contraseña es segura o no basado en los siguientes criterios:\n",
    "\n",
    "1. La contraseña deberá tener al menos 8 caracteres.\n",
    "\n",
    "2. La contraseña deberá tener al menos una letra mayúscula.\n",
    "\n",
    "3. La contraseña deberá tener al menos una letra minúscula. \n",
    "\n",
    "4. La contraseña deberá tener al menos un número. \n",
    "\n",
    "5. La contraseña deberá tener al menos un caracter especial. \n",
    "\n",
    "6. La contraseña no deberá tener espacios en blanco. \n",
    "\n",
    "7. La contraseña no deberá tener caracteres repetidos. \n"
   ]
  },
  {
   "cell_type": "code",
   "execution_count": 24,
   "metadata": {},
   "outputs": [
    {
     "name": "stdout",
     "output_type": "stream",
     "text": [
      "La contraseña debe tener al menos un número.\n",
      "La contraseña debe tener al menos 8 caracteres.\n",
      "La contraseña no debe tener espacios en blanco.\n",
      "La contraseña no debe tener caracteres repetidos.\n",
      "La contraseña debe tener al menos una letra mayúscula.\n",
      "La contraseña debe tener al menos una letra minúscula.\n",
      "La contraseña debe tener al menos un carácter especial.\n",
      "La contraseña es segura, a ver, no es que 'segura' sea la contraseña, es que la contraseña tiene seguridad, pero no es 'segura', es la que escribiste\n"
     ]
    }
   ],
   "source": [
    "def verificar_seguridad_password(password):\n",
    "    #La contraseña deberá tener al menos 8 caracteres.\n",
    "    if len(password) < 8:\n",
    "        print(f\"La contraseña debe tener al menos 8 caracteres.\")\n",
    "    \n",
    "    #La contraseña deberá tener al menos una letra mayúscula.\n",
    "    elif not any(char.isupper() for char in password):\n",
    "        print(f\"La contraseña debe tener al menos una letra mayúscula.\")\n",
    "    \n",
    "    #La contraseña deberá tener al menos una letra minúscula.\n",
    "    elif not any(char.islower() for char in password):\n",
    "        print(f\"La contraseña debe tener al menos una letra minúscula.\")\n",
    "    \n",
    "    #La contraseña deberá tener al menos un número.\n",
    "    elif not any(char.isdigit() for char in password):\n",
    "        print(f\"La contraseña debe tener al menos un número.\")\n",
    "    \n",
    "    #La contraseña deberá tener al menos un carácter especial.\n",
    "    elif not any(char in \"!@#$%^&*()-_=+[]{};:'\\\",.<>?/|`~\" for char in password):\n",
    "        print(f\"La contraseña debe tener al menos un carácter especial.\")\n",
    "    \n",
    "    #La contraseña no deberá tener espacios en blanco.\n",
    "    elif ' ' in password:\n",
    "        print(f\"La contraseña no debe tener espacios en blanco.\")\n",
    "    \n",
    "    #La contraseña no deberá tener caracteres repetidos.\n",
    "    elif len(password) != len(set(password)):\n",
    "        print(f\"La contraseña no debe tener caracteres repetidos.\")\n",
    "    #Si supera todo lo anterior:\n",
    "    else:\n",
    "        print(f\"La contraseña es segura, a ver, no es que 'segura' sea la contraseña, es que la contraseña tiene seguridad, pero no es 'segura', es la que escribiste\")\n",
    "\n",
    "#Ejemplos\n",
    "verificar_seguridad_password(\"SePorQUE;\") \n",
    "verificar_seguridad_password(\"Man123;\")\n",
    "verificar_seguridad_password(\"No Se PorQUE 123;\")\n",
    "verificar_seguridad_password(\"Manolo123;\")\n",
    "verificar_seguridad_password(\"pacojose232\")\n",
    "verificar_seguridad_password(\"VIVAESPAÑA?!\")\n",
    "verificar_seguridad_password(\"Manoli1234\")   \n",
    "verificar_seguridad_password(\"Manoli23;\")\n"
   ]
  }
 ],
 "metadata": {
  "kernelspec": {
   "display_name": "hackio",
   "language": "python",
   "name": "python3"
  },
  "language_info": {
   "codemirror_mode": {
    "name": "ipython",
    "version": 3
   },
   "file_extension": ".py",
   "mimetype": "text/x-python",
   "name": "python",
   "nbconvert_exporter": "python",
   "pygments_lexer": "ipython3",
   "version": "3.11.9"
  }
 },
 "nbformat": 4,
 "nbformat_minor": 2
}
