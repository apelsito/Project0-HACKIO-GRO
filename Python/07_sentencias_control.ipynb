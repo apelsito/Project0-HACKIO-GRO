{
 "cells": [
  {
   "cell_type": "markdown",
   "metadata": {},
   "source": [
    "<div style=\"text-align: center;\">\n",
    "  <img src=\"https://github.com/Hack-io-Data/Imagenes/blob/main/01-LogosHackio/logo_celeste@4x.png?raw=true\" alt=\"logo hack(io)\" />\n",
    "</div>"
   ]
  },
  {
   "cell_type": "markdown",
   "metadata": {},
   "source": [
    "#### 1. Escribe un programa que determine si un número es par o impar.\n",
    "\n"
   ]
  },
  {
   "cell_type": "code",
   "execution_count": 10,
   "metadata": {},
   "outputs": [
    {
     "name": "stdout",
     "output_type": "stream",
     "text": [
      "El número introducido es par\n"
     ]
    }
   ],
   "source": [
    "numero = int(input(\"Inserta un número entero: \"))\n",
    "\n",
    "if numero % 2 == 0:\n",
    "    print(f\"El número introducido es par\")\n",
    "else:\n",
    "    print(f\"El número introducido es impar\")"
   ]
  },
  {
   "cell_type": "markdown",
   "metadata": {},
   "source": [
    "#### 2. Genera un programa que nos diga si es de noche, de día o tarde según la hora proporcionada por el usuario."
   ]
  },
  {
   "cell_type": "code",
   "execution_count": 41,
   "metadata": {},
   "outputs": [
    {
     "name": "stdout",
     "output_type": "stream",
     "text": [
      "Introduce la hora correcta en formato 24 horas.\n"
     ]
    }
   ],
   "source": [
    "hora = int(input(\"Introduce la hora en formato 24 horas: \"))\n",
    "if 6 < hora < 13:\n",
    "    print(\"Es de día.\")\n",
    "elif 12 < hora < 21:\n",
    "    print(\"Es por la tarde.\")\n",
    "elif (hora >= 21 and hora <= 23) or (hora >= 0 and hora < 7):\n",
    "    print(\"Es de noche.\")\n",
    "else:\n",
    "    print(\"Introduce la hora correcta en formato 24 horas.\")"
   ]
  },
  {
   "cell_type": "markdown",
   "metadata": {},
   "source": [
    "#### 3. Dado un nombre imprime un saludo personalizado."
   ]
  },
  {
   "cell_type": "code",
   "execution_count": 44,
   "metadata": {},
   "outputs": [
    {
     "name": "stdout",
     "output_type": "stream",
     "text": [
      "Hola! TU PUTA MADRE me alegra saludarte.\n"
     ]
    }
   ],
   "source": [
    "nombre = input(\"Introduce un nombre: \")\n",
    "print(f\"Hola! {nombre} me alegra saludarte.\")"
   ]
  },
  {
   "cell_type": "markdown",
   "metadata": {},
   "source": [
    "#### 4. Escribe un programa que determine qué calificación en texto tiene un alumno en base a su calificación numérica. Las reglas de calificación son: \n",
    "\n",
    "- 0 - 69 insuficiente\n",
    "\n",
    "- 70 - 79 bien\n",
    "\n",
    "- 80 - 89 muy bien\n",
    "\n",
    "- 90 - 100 excelente\n"
   ]
  },
  {
   "cell_type": "code",
   "execution_count": 46,
   "metadata": {},
   "outputs": [
    {
     "name": "stdout",
     "output_type": "stream",
     "text": [
      "Es entre 0 y 100, ni más ni menos rey\n"
     ]
    }
   ],
   "source": [
    "nota = int(input(\"Introduce tu nota del 0 al 100: \"))\n",
    "\n",
    "if nota >= 0 and nota <= 69:\n",
    "    print(f\"Insuficiente\")\n",
    "elif 70 <= nota <= 79:\n",
    "    print(f\"Bien\")\n",
    "elif 80 <= nota <= 89:\n",
    "    print(f\"Muy bien\")\n",
    "elif nota >= 90 and nota <= 100:\n",
    "    print(f\"Excelente\")\n",
    "else:\n",
    "    print(f\"Es entre 0 y 100, ni más ni menos rey\")"
   ]
  },
  {
   "cell_type": "markdown",
   "metadata": {},
   "source": [
    "#### 5. Escribe un programa que imprima el día de la semana, dado un número del 1 al 7.\n"
   ]
  },
  {
   "cell_type": "code",
   "execution_count": 53,
   "metadata": {},
   "outputs": [
    {
     "name": "stdout",
     "output_type": "stream",
     "text": [
      "Número inválido, debe ser entre 1 y 7.\n"
     ]
    }
   ],
   "source": [
    "dias = [\"Lunes\", \"Martes\", \"Miércoles\", \"Jueves\", \"Viernes\", \"Sábado\", \"Domingo\"] #Alternativamente un diccionario también funcionaría, pero cogi la lista por soy así.\n",
    "\n",
    "numero = int(input(\"Introduce un número del 1 al 7\")) \n",
    "\n",
    "if numero > 0 and numero <= 7:\n",
    "    print(dias[numero-1]) #Se tiene que restar porque la listas empiezan por 0 \n",
    "else:\n",
    "    print(\"Número inválido, debe ser entre 1 y 7.\")"
   ]
  },
  {
   "cell_type": "markdown",
   "metadata": {},
   "source": [
    "#### 6. Escribe un programa que determine si un número es positivo, negativo o cero."
   ]
  },
  {
   "cell_type": "code",
   "execution_count": 1,
   "metadata": {},
   "outputs": [
    {
     "name": "stdout",
     "output_type": "stream",
     "text": [
      "Es positivo el numerito\n"
     ]
    }
   ],
   "source": [
    "numerito = int(input(\"Introduce un número sin decimales, puede ser positivo y negativo: \"))\n",
    "\n",
    "if numerito > 0:\n",
    "    print(f\"Es positivo el numerito\")\n",
    "elif numerito < 0:\n",
    "     print(f\"Es negativo el numerito.\")\n",
    "elif numerito == 0:\n",
    "     print(f\"Es cero el numerito\")\n",
    "else:\n",
    "     print(f\"No me gusta este numerito, cosas de la vida.\")"
   ]
  },
  {
   "cell_type": "markdown",
   "metadata": {},
   "source": [
    "#### 7. Escribe un programa que determine si una persona puede conducir o no. La edad mínima para conducir es 18 años. \n"
   ]
  },
  {
   "cell_type": "code",
   "execution_count": 63,
   "metadata": {},
   "outputs": [
    {
     "name": "stdout",
     "output_type": "stream",
     "text": [
      "Puedes conducir :D\n"
     ]
    }
   ],
   "source": [
    "edad = int(input(\"Introduce tu edad, sólo número:\"))\n",
    "if 18 <= edad <= 90:\n",
    "    print(f\"Puedes conducir :D\")\n",
    "elif 0 <= edad < 18:\n",
    "    print(f\"No puedes conducir, muy niño todavía D:\")\n",
    "elif edad > 90 and edad < 120: #Hay gente muy mayor, quien sabe\n",
    "    print(f\"Si el médico lo permite... Old man knows how to drive :0\")\n",
    "else:\n",
    "    print(f\"Esa edad no es realista :/\")"
   ]
  },
  {
   "cell_type": "markdown",
   "metadata": {},
   "source": [
    "#### 8. Escribe un programa que determine si un estudiante aprobó o suspendió un examen."
   ]
  },
  {
   "cell_type": "code",
   "execution_count": 68,
   "metadata": {},
   "outputs": [
    {
     "name": "stdout",
     "output_type": "stream",
     "text": [
      "Notable\n"
     ]
    }
   ],
   "source": [
    "grade = float(input(\"Introduce tu nota del 0 al 10: \"))\n",
    "\n",
    "if 0 <= grade < 5:\n",
    "    print(f\"Insuficiente\")\n",
    "elif 5 <= grade < 7:\n",
    "    print(f\"Suficiente\")\n",
    "elif 7 <= grade < 9:\n",
    "    print(f\"Notable\")\n",
    "elif 9 <= grade <= 10:\n",
    "    print(f\"Sobresaliente\")\n",
    "else:\n",
    "    print(f\"Introduce un número válido.\")\n"
   ]
  },
  {
   "cell_type": "markdown",
   "metadata": {},
   "source": [
    "#### 9. Escribe un programa que determine si un número es múltiplo de 3 y 5.\n"
   ]
  },
  {
   "cell_type": "code",
   "execution_count": 69,
   "metadata": {},
   "outputs": [
    {
     "name": "stdout",
     "output_type": "stream",
     "text": [
      "El número es múltiplo de 3 y 5\n"
     ]
    }
   ],
   "source": [
    "number = int(input(\"Introduce un número entero: \"))\n",
    "\n",
    "if number % 3 == 0 and number % 5 == 0:\n",
    "    print(f\"El número es múltiplo de 3 y 5\")\n",
    "else:\n",
    "    print(f\"No es múltiplo de 3 y 5\")"
   ]
  },
  {
   "cell_type": "markdown",
   "metadata": {},
   "source": [
    "#### 10. Escribe un programa que determine si un número es par o impar.\n"
   ]
  },
  {
   "cell_type": "code",
   "execution_count": 2,
   "metadata": {},
   "outputs": [
    {
     "name": "stdout",
     "output_type": "stream",
     "text": [
      "El número introducido es par\n"
     ]
    }
   ],
   "source": [
    "numero = int(input(\"Inserta un número entero: \"))\n",
    "\n",
    "if numero % 2 == 0:\n",
    "    print(f\"El número introducido es par\")\n",
    "else:\n",
    "    print(f\"El número introducido es impar\")"
   ]
  }
 ],
 "metadata": {
  "kernelspec": {
   "display_name": "hackio",
   "language": "python",
   "name": "python3"
  },
  "language_info": {
   "codemirror_mode": {
    "name": "ipython",
    "version": 3
   },
   "file_extension": ".py",
   "mimetype": "text/x-python",
   "name": "python",
   "nbconvert_exporter": "python",
   "pygments_lexer": "ipython3",
   "version": "3.11.9"
  }
 },
 "nbformat": 4,
 "nbformat_minor": 2
}
