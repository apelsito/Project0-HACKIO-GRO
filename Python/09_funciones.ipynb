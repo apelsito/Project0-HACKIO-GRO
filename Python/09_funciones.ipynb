{
 "cells": [
  {
   "cell_type": "markdown",
   "metadata": {},
   "source": [
    "\n",
    "<div style=\"text-align: center;\">\n",
    "  <img src=\"https://github.com/Hack-io-Data/Imagenes/blob/main/01-LogosHackio/logo_celeste@4x.png?raw=true\" alt=\"esquema\" />\n",
    "</div>"
   ]
  },
  {
   "cell_type": "markdown",
   "metadata": {},
   "source": [
    "#### 1. Escribe una función sin parámetros que imprima el siguiente mensaje \"¡Hola! Bienvenido.\"\n"
   ]
  },
  {
   "cell_type": "code",
   "execution_count": 2,
   "metadata": {},
   "outputs": [
    {
     "name": "stdout",
     "output_type": "stream",
     "text": [
      "¡Hola!, Bienvenido\n"
     ]
    }
   ],
   "source": [
    "def saludo():\n",
    "    print(f\"¡Hola!, Bienvenido\")\n",
    "saludo()"
   ]
  },
  {
   "cell_type": "markdown",
   "metadata": {},
   "source": [
    "#### 2. Escribe una función que reciba dos parámetros y devuelva la suma de ambos.\n"
   ]
  },
  {
   "cell_type": "code",
   "execution_count": 4,
   "metadata": {},
   "outputs": [
    {
     "name": "stdout",
     "output_type": "stream",
     "text": [
      "La suma es 5\n"
     ]
    }
   ],
   "source": [
    "def suma(num1,num2):\n",
    "    sumar = num1 + num2\n",
    "    print(f\"La suma es {sumar}\")\n",
    "suma(2,3)"
   ]
  },
  {
   "cell_type": "markdown",
   "metadata": {},
   "source": [
    "#### 3. Escribe una función que reciba un número y devuelva True si es par, False si no lo es."
   ]
  },
  {
   "cell_type": "code",
   "execution_count": 6,
   "metadata": {},
   "outputs": [
    {
     "data": {
      "text/plain": [
       "True"
      ]
     },
     "execution_count": 6,
     "metadata": {},
     "output_type": "execute_result"
    }
   ],
   "source": [
    "def espar(num):\n",
    "    if num % 2 == 0: #Si el resto es 0\n",
    "        return True #Devolvemos true\n",
    "    else:\n",
    "        return False #Si no false\n",
    "espar(4)"
   ]
  },
  {
   "cell_type": "markdown",
   "metadata": {},
   "source": [
    "#### 4. Escribe un función que devuelva un saludo personalizado a una persona dado su nombre. \n"
   ]
  },
  {
   "cell_type": "code",
   "execution_count": 7,
   "metadata": {},
   "outputs": [
    {
     "name": "stdout",
     "output_type": "stream",
     "text": [
      "Hola Gonzalo te saludo!\n"
     ]
    }
   ],
   "source": [
    "nombre = input(\"Introduce un nombre: \")\n",
    "\n",
    "def saludar(name):\n",
    "    print(f\"Hola {name}, te saludo!\")\n",
    "\n",
    "saludar(nombre)"
   ]
  },
  {
   "cell_type": "markdown",
   "metadata": {},
   "source": [
    "#### 5. Escribe una función que sume todos los números que reciba como argumento. La función debe recibir una cantidad variable de argumentos y devolver la suma de todos ellos."
   ]
  },
  {
   "cell_type": "code",
   "execution_count": 8,
   "metadata": {},
   "outputs": [
    {
     "name": "stdout",
     "output_type": "stream",
     "text": [
      "La suma es: 155\n"
     ]
    }
   ],
   "source": [
    "def sumar_todo(*args): #*args nos permite poner todos los inputs que queramos en formato de posición, *kwargs nos permite poner valores tipo diccionario clave - valor, Nombre = Juan\n",
    "    print(f\"La suma es: {sum(args)}\")\n",
    "\n",
    "sumar_todo(1,2,3,4,5,6,7,8,9,10,100)"
   ]
  },
  {
   "cell_type": "markdown",
   "metadata": {},
   "source": [
    "#### 6. Escribe una función que cuente las letras de una palabra y devuelva un diccionario con la cantidad de veces que se repite cada letra \n"
   ]
  },
  {
   "cell_type": "code",
   "execution_count": 10,
   "metadata": {},
   "outputs": [
    {
     "name": "stdout",
     "output_type": "stream",
     "text": [
      "{'R': 1, 'e': 2, 'd': 1, 'i': 1, 's': 1, 'ñ': 1, 'a': 1, 'r': 1}\n"
     ]
    }
   ],
   "source": [
    "def contarpalabra(palabra):\n",
    "    letras = {} #Creamos un diccionario\n",
    "    \n",
    "    for letra in palabra: #Por cada letra en la palabra introducida\n",
    "        if letra in letras: #Si la letra está en las letras que pusimos:\n",
    "            letras[letra] += 1 #y ya la añadimos antes, incrementamos valor de las veces que aparece\n",
    "        else:\n",
    "            letras[letra] = 1 #Si no lo está lo agregamos por primera vez.\n",
    "    \n",
    "    print(letras)\n",
    "\n",
    "contarpalabra(\"Rediseñar\")"
   ]
  },
  {
   "cell_type": "markdown",
   "metadata": {},
   "source": [
    "#### 7. Escribe un función recursiva para calcular el factorial de un número entero no negativo."
   ]
  },
  {
   "cell_type": "code",
   "execution_count": 18,
   "metadata": {},
   "outputs": [
    {
     "name": "stdout",
     "output_type": "stream",
     "text": [
      "120\n"
     ]
    }
   ],
   "source": [
    "def factorial(number): #para esto: 10! = 10x9x8x7x6x5x4x3x2x1\n",
    "    i = number #i = número introducido\n",
    "    lista = []\n",
    "    multiplicacion = 1 #ya que x 0 siempre nos daría 0\n",
    "    while i >= 1: #Mientras i sea mayor igual que 1\n",
    "        lista.append(i) #añadimos a la lista el número\n",
    "        i -= 1 #Bajamos i\n",
    "    for numero in lista: #Para cada número añadido a la lista\n",
    "        multiplicacion = multiplicacion * numero #la multiplicación * numero que toque, ponemos la multiplicacion por 1 para empezar, ya que así no nos cambia el resultado\n",
    "    \n",
    "    print(multiplicacion)\n",
    "   \n",
    "factorial(5)"
   ]
  },
  {
   "cell_type": "markdown",
   "metadata": {},
   "source": [
    "#### 8. Escribe una función que tome dos parámetros: `figura` (una cadena que puede ser `\"rectangulo\"`, `\"circulo\"` o `\"triangulo\"`) y `datos` (una tupla con los datos necesarios para calcular el área de la figura). "
   ]
  },
  {
   "cell_type": "code",
   "execution_count": 19,
   "metadata": {},
   "outputs": [
    {
     "name": "stdout",
     "output_type": "stream",
     "text": [
      "El área del rectángulo es: 50\n",
      "El área del círculo es: 153.94\n",
      "El área del triángulo es: 24.0\n"
     ]
    }
   ],
   "source": [
    "def area(figura, datos):\n",
    "    if figura == \"rectángulo\": #Si es un rectángulo\n",
    "        ancho, alto = datos #declaramos a los dos inputs de valor una variable, ancho y alto en este caso\n",
    "        area = ancho * alto #Hacemos la fórmula del área de un rectángulo\n",
    "        print(f\"El área del rectángulo es: {area}\")\n",
    "    \n",
    "    elif figura == \"círculo\":\n",
    "        radio = datos[0]  # Solo el radio\n",
    "        area = 3.14159 * (radio ** 2) #Aquí si importamos math, podríamos usar la función pi que hay math.pi, pero yo he preferido no hacerlo\n",
    "        print(f\"El área del círculo es: {area:.2f}\") #Imprimimos, declarando que queremos el resultado en float y dos decimales\n",
    "    \n",
    "    elif figura == \"triángulo\":\n",
    "        base, altura = datos #Lo mismo que he explicado en rectángulo\n",
    "        area = (base * altura) / 2\n",
    "        print(f\"El área del triángulo es: {area}\")\n",
    "    \n",
    "    else:\n",
    "        return \"Figura no reconocida\"\n",
    "\n",
    "area(\"rectángulo\", (5, 10))\n",
    "area(\"círculo\", (7,))\n",
    "area(\"triángulo\", (6, 8))\n"
   ]
  },
  {
   "cell_type": "markdown",
   "metadata": {},
   "source": [
    "#### 9. Escribe una función que tome una lista de números como parámetro y devuelva el número más grande de la lista. No utilices la función `max()` de Python en tu solución."
   ]
  },
  {
   "cell_type": "code",
   "execution_count": 21,
   "metadata": {},
   "outputs": [
    {
     "name": "stdout",
     "output_type": "stream",
     "text": [
      "El número mayor es 23445\n"
     ]
    }
   ],
   "source": [
    "def big_numbah(numberlist):\n",
    "    big = numberlist[0] #Declaramos que el mayor es el primer número de la lista que se da en la función\n",
    "    for numb in numberlist: #Por cada numero de la lista que se da:\n",
    "        if numb > big: #Si el numero es mayor que el ya almacenado:\n",
    "            big = numb #Almacenamos el valor en la variable big\n",
    "    print(f\"El número mayor es {big}\")\n",
    "\n",
    "big_numbah([1,2,3,4,5,20,33,12,45,102,0,23445,1133])"
   ]
  },
  {
   "cell_type": "markdown",
   "metadata": {},
   "source": [
    "#### 10. Escribe una función que tome una cadena como parámetro un texto y devuelva `True` si la cadena es un palíndromo (se lee igual de izquierda a derecha que de derecha a izquierda), y `False` en caso contrario. Ignora los espacios y considera mayúsculas y minúsculas de manera insensible.\n"
   ]
  },
  {
   "cell_type": "code",
   "execution_count": 26,
   "metadata": {},
   "outputs": [
    {
     "name": "stdout",
     "output_type": "stream",
     "text": [
      "Anita lava la tina es un palíndromo\n"
     ]
    }
   ],
   "source": [
    "cadena1 = \"Anita lava la tina\"\n",
    "def verifica(texto):\n",
    "    # Quitamos los espacios\n",
    "    nospace = texto.replace(\" \", \"\").lower()\n",
    "\n",
    "    alreves = nospace[::-1] #Usamos esto para invertir el texto\n",
    "    \n",
    "    if nospace == alreves:\n",
    "        print(f\"{cadena1} es un palíndromo\")\n",
    "    else:\n",
    "        print(f\"{cadena1} no es un palíndromo\")\n",
    "\n",
    "verifica(cadena1)"
   ]
  },
  {
   "cell_type": "markdown",
   "metadata": {},
   "source": [
    "#### 11. Escribe una función que tome una cadena como parámetro y devuelva dos valores: la cantidad de vocales y la cantidad de consonantes presentes en la cadena. Ignora los espacios y considera mayúsculas y minúsculas de manera insensible.\n"
   ]
  },
  {
   "cell_type": "code",
   "execution_count": 5,
   "metadata": {},
   "outputs": [
    {
     "name": "stdout",
     "output_type": "stream",
     "text": [
      "Cantidad de vocales: 4, Cantidad de Consonantes: 5\n"
     ]
    }
   ],
   "source": [
    "cadena = \"Hola Mundo\"\n",
    "def contar(texto):\n",
    "    vocal = \"aeiou\"\n",
    "    vocales = 0\n",
    "    consonantes = 0\n",
    "    \n",
    "    textominus = texto.lower() #Lo pasamos a minúsculas\n",
    "    \n",
    "    for txt in textominus:\n",
    "        if txt.isalpha():  # Solo contar letras\n",
    "            if txt in vocal:\n",
    "                vocales += 1\n",
    "            else:\n",
    "                consonantes += 1\n",
    "    \n",
    "    print(f\"Cantidad de vocales: {vocales}, Cantidad de Consonantes: {consonantes}\")\n",
    "\n",
    "contar(cadena)"
   ]
  }
 ],
 "metadata": {
  "kernelspec": {
   "display_name": "hackio",
   "language": "python",
   "name": "python3"
  },
  "language_info": {
   "codemirror_mode": {
    "name": "ipython",
    "version": 3
   },
   "file_extension": ".py",
   "mimetype": "text/x-python",
   "name": "python",
   "nbconvert_exporter": "python",
   "pygments_lexer": "ipython3",
   "version": "3.11.9"
  }
 },
 "nbformat": 4,
 "nbformat_minor": 2
}
