{
 "cells": [
  {
   "cell_type": "markdown",
   "metadata": {},
   "source": [
    "<div style=\"text-align: center;\">\n",
    "  <img src=\"https://github.com/Hack-io-Data/Imagenes/blob/main/01-LogosHackio/logo_celeste@4x.png?raw=true\" alt=\"logo hack(io)\" />\n",
    "</div>\n"
   ]
  },
  {
   "cell_type": "markdown",
   "metadata": {},
   "source": [
    "#### 1. Crea una tupla llamada `persona` y asigna a ella los valores 'Juan', 25, 75.5, 1.75."
   ]
  },
  {
   "cell_type": "code",
   "execution_count": 7,
   "metadata": {},
   "outputs": [
    {
     "data": {
      "text/plain": [
       "('Juan', 25, 75.5, 1.75)"
      ]
     },
     "execution_count": 7,
     "metadata": {},
     "output_type": "execute_result"
    }
   ],
   "source": [
    "persona = ('Juan',25,75.5,1.75)\n",
    "persona"
   ]
  },
  {
   "cell_type": "markdown",
   "metadata": {},
   "source": [
    "#### 2. Crea una tupla llamada `animal` y asigna a ella los valores 'perro', 'gato', 'conejo'."
   ]
  },
  {
   "cell_type": "code",
   "execution_count": 8,
   "metadata": {},
   "outputs": [
    {
     "data": {
      "text/plain": [
       "('perro', 'gato', 'conejo')"
      ]
     },
     "execution_count": 8,
     "metadata": {},
     "output_type": "execute_result"
    }
   ],
   "source": [
    "animal = ('perro','gato','conejo')\n",
    "animal"
   ]
  },
  {
   "cell_type": "markdown",
   "metadata": {},
   "source": [
    "#### 3. Obten la longitud de cada tupla y asigna el resultado a una variable llamada `longitud_persona` y `longitud_animal`.\n"
   ]
  },
  {
   "cell_type": "code",
   "execution_count": 9,
   "metadata": {},
   "outputs": [],
   "source": [
    "longitud_persona = len(persona)\n",
    "longitud_animal = len(animal)\n"
   ]
  },
  {
   "cell_type": "markdown",
   "metadata": {},
   "source": [
    "#### 4. Imprime en pantalla el valor de cada variable utilizando la función print()."
   ]
  },
  {
   "cell_type": "code",
   "execution_count": 10,
   "metadata": {},
   "outputs": [
    {
     "name": "stdout",
     "output_type": "stream",
     "text": [
      "('Juan', 25, 75.5, 1.75)\n",
      "('perro', 'gato', 'conejo')\n",
      "4\n",
      "3\n"
     ]
    }
   ],
   "source": [
    "print(persona)\n",
    "print(animal)\n",
    "print(longitud_persona)\n",
    "print(longitud_animal)"
   ]
  },
  {
   "cell_type": "markdown",
   "metadata": {},
   "source": [
    "#### 5. Convierte la tupla `animal` en una lista. Comprueba que es una lista."
   ]
  },
  {
   "cell_type": "code",
   "execution_count": 11,
   "metadata": {},
   "outputs": [
    {
     "data": {
      "text/plain": [
       "list"
      ]
     },
     "execution_count": 11,
     "metadata": {},
     "output_type": "execute_result"
    }
   ],
   "source": [
    "lista_animal = list(animal)\n",
    "type(lista_animal)"
   ]
  },
  {
   "cell_type": "markdown",
   "metadata": {},
   "source": [
    "#### 6. Genera una tupla anidada nueva compuesta por la tupla `datos` y la lista `animal`. Asigna el resultado a una variable llamada `anidada`."
   ]
  },
  {
   "cell_type": "code",
   "execution_count": 12,
   "metadata": {},
   "outputs": [
    {
     "data": {
      "text/plain": [
       "(('Juan', 25, 75.5, 1.75), ['perro', 'gato', 'conejo'])"
      ]
     },
     "execution_count": 12,
     "metadata": {},
     "output_type": "execute_result"
    }
   ],
   "source": [
    "#asumo que la tupla datos, debío existir, pero es que yo no la tengo aquí, así que voy a asumir que queremos usar la tupla \"Persona\"\n",
    "anidada = (persona, lista_animal)\n",
    "anidada"
   ]
  },
  {
   "cell_type": "markdown",
   "metadata": {},
   "source": [
    "#### 7.  Accede al animal 'gato' de la tupla `anidada` e imprímelo en pantalla."
   ]
  },
  {
   "cell_type": "code",
   "execution_count": 13,
   "metadata": {},
   "outputs": [
    {
     "name": "stdout",
     "output_type": "stream",
     "text": [
      "gato\n"
     ]
    }
   ],
   "source": [
    "print(anidada[1][1])#de esta forma accedemos al segundo elemento de la tupla anidada, y al segundo elemento de la lista que es gato"
   ]
  },
  {
   "cell_type": "markdown",
   "metadata": {},
   "source": [
    "#### 8. Crea una tupla donde su unico valor es \"C\"."
   ]
  },
  {
   "cell_type": "code",
   "execution_count": 24,
   "metadata": {},
   "outputs": [],
   "source": [
    "tuplaC = (\"C\",)"
   ]
  },
  {
   "cell_type": "markdown",
   "metadata": {},
   "source": [
    "#### 9. Identifica el tipo de dato de la tupla."
   ]
  },
  {
   "cell_type": "code",
   "execution_count": 25,
   "metadata": {},
   "outputs": [
    {
     "data": {
      "text/plain": [
       "str"
      ]
     },
     "execution_count": 25,
     "metadata": {},
     "output_type": "execute_result"
    }
   ],
   "source": [
    "type(tuplaC[0])#poniendo el 0, indicamos que quermos que nos diga que es \"C\" y no que es TuplaC"
   ]
  },
  {
   "cell_type": "markdown",
   "metadata": {},
   "source": [
    "#### 10. Crea una tupla con los siguientes valores: 'o','s','i','n','c','h','i','s'"
   ]
  },
  {
   "cell_type": "code",
   "execution_count": 26,
   "metadata": {},
   "outputs": [],
   "source": [
    "tupla2 = ('o','s','i','n','c','h','i','s') # Cosinchiiis Xd"
   ]
  },
  {
   "cell_type": "markdown",
   "metadata": {},
   "source": [
    "#### 11. Crea una tupla que sea la unión de las dos tuplas anteriores y asigna el resultado a una variable llamada `tupla3`.\n"
   ]
  },
  {
   "cell_type": "code",
   "execution_count": 27,
   "metadata": {},
   "outputs": [
    {
     "data": {
      "text/plain": [
       "('C', 'o', 's', 'i', 'n', 'c', 'h', 'i', 's')"
      ]
     },
     "execution_count": 27,
     "metadata": {},
     "output_type": "execute_result"
    }
   ],
   "source": [
    "tupla3 = tuplaC + tupla2\n",
    "tupla3"
   ]
  },
  {
   "cell_type": "markdown",
   "metadata": {},
   "source": [
    "#### 12. ¿Cuál es la longitud de las tuplas `tupla1`,`tupla2` y `tupla3`?"
   ]
  },
  {
   "cell_type": "code",
   "execution_count": 28,
   "metadata": {},
   "outputs": [
    {
     "name": "stdout",
     "output_type": "stream",
     "text": [
      "1\n",
      "8\n",
      "9\n"
     ]
    }
   ],
   "source": [
    "print(len(tuplaC))\n",
    "print(len(tupla2))\n",
    "print(len(tupla3))"
   ]
  },
  {
   "cell_type": "markdown",
   "metadata": {},
   "source": [
    "#### 13. Comprueba que la longitud de la tupla `tupla3` es igual a la suma de las longitudes de las tuplas `tupla1` y `tupla2`.\n"
   ]
  },
  {
   "cell_type": "code",
   "execution_count": 30,
   "metadata": {},
   "outputs": [
    {
     "data": {
      "text/plain": [
       "True"
      ]
     },
     "execution_count": 30,
     "metadata": {},
     "output_type": "execute_result"
    }
   ],
   "source": [
    "len(tupla3) == len(tuplaC) + len(tupla2) #Recuerda que es doble igual para los bools, un solo igual declara variable, doble igual compara"
   ]
  },
  {
   "cell_type": "markdown",
   "metadata": {},
   "source": [
    "#### 14. Cual es el indice del valor 'h' en la tupla `tupla2`? y en `tupla3`?"
   ]
  },
  {
   "cell_type": "code",
   "execution_count": 32,
   "metadata": {},
   "outputs": [
    {
     "name": "stdout",
     "output_type": "stream",
     "text": [
      "5\n",
      "6\n"
     ]
    }
   ],
   "source": [
    "print(tupla2.index(\"h\"))\n",
    "print(tupla3.index(\"h\"))"
   ]
  }
 ],
 "metadata": {
  "kernelspec": {
   "display_name": "hackio",
   "language": "python",
   "name": "python3"
  },
  "language_info": {
   "codemirror_mode": {
    "name": "ipython",
    "version": 3
   },
   "file_extension": ".py",
   "mimetype": "text/x-python",
   "name": "python",
   "nbconvert_exporter": "python",
   "pygments_lexer": "ipython3",
   "version": "3.11.9"
  }
 },
 "nbformat": 4,
 "nbformat_minor": 2
}
